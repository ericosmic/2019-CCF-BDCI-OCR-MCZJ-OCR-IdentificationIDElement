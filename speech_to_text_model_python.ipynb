{
  "nbformat": 4,
  "nbformat_minor": 0,
  "metadata": {
    "colab": {
      "name": "speech-to-text-model-python.ipynb",
      "provenance": [],
      "collapsed_sections": [],
      "toc_visible": true,
      "mount_file_id": "12txIcFAra2ELwObhVwGAnjOnncZyuigO",
      "authorship_tag": "ABX9TyMmp6hJKz7VzakLGtAIOsyF",
      "include_colab_link": true
    },
    "kernelspec": {
      "name": "python3",
      "display_name": "Python 3"
    },
    "accelerator": "GPU"
  },
  "cells": [
    {
      "cell_type": "markdown",
      "metadata": {
        "id": "view-in-github",
        "colab_type": "text"
      },
      "source": [
        "<a href=\"https://colab.research.google.com/github/ericosmic/2019-CCF-BDCI-OCR-MCZJ-OCR-IdentificationIDElement/blob/master/speech_to_text_model_python.ipynb\" target=\"_parent\"><img src=\"https://colab.research.google.com/assets/colab-badge.svg\" alt=\"Open In Colab\"/></a>"
      ]
    },
    {
      "cell_type": "code",
      "metadata": {
        "id": "y3sWjjssys0j",
        "colab_type": "code",
        "colab": {}
      },
      "source": [
        "import os\n",
        "import librosa   #for audio processing\n",
        "import IPython.display as ipd\n",
        "import matplotlib.pyplot as plt\n",
        "import numpy as np\n",
        "from scipy.io import wavfile #for audio processing\n",
        "import warnings\n",
        "warnings.filterwarnings(\"ignore\")"
      ],
      "execution_count": 0,
      "outputs": []
    },
    {
      "cell_type": "code",
      "metadata": {
        "id": "0_jOLA-i5ZgZ",
        "colab_type": "code",
        "colab": {}
      },
      "source": [
        "! pip install -q kaggle"
      ],
      "execution_count": 0,
      "outputs": []
    },
    {
      "cell_type": "code",
      "metadata": {
        "id": "LWUu6Y6I5p8p",
        "colab_type": "code",
        "outputId": "0c6ffe79-1959-4083-fa32-d8a82340fe65",
        "colab": {
          "resources": {
            "http://localhost:8080/nbextensions/google.colab/files.js": {
              "data": "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",
              "ok": true,
              "headers": [
                [
                  "content-type",
                  "application/javascript"
                ]
              ],
              "status": 200,
              "status_text": ""
            }
          },
          "base_uri": "https://localhost:8080/",
          "height": 97
        }
      },
      "source": [
        "from google.colab import files\n",
        "files.upload()\n"
      ],
      "execution_count": 0,
      "outputs": [
        {
          "output_type": "display_data",
          "data": {
            "text/html": [
              "\n",
              "     <input type=\"file\" id=\"files-ec65462c-7f3e-44c9-a031-9a6b2dbf473b\" name=\"files[]\" multiple disabled />\n",
              "     <output id=\"result-ec65462c-7f3e-44c9-a031-9a6b2dbf473b\">\n",
              "      Upload widget is only available when the cell has been executed in the\n",
              "      current browser session. Please rerun this cell to enable.\n",
              "      </output>\n",
              "      <script src=\"/nbextensions/google.colab/files.js\"></script> "
            ],
            "text/plain": [
              "<IPython.core.display.HTML object>"
            ]
          },
          "metadata": {
            "tags": []
          }
        },
        {
          "output_type": "stream",
          "text": [
            "Saving kaggle.json to kaggle.json\n"
          ],
          "name": "stdout"
        },
        {
          "output_type": "execute_result",
          "data": {
            "text/plain": [
              "{'kaggle.json': b'{\"username\":\"ericosmo\",\"key\":\"93f84bd229808bf540217bf44300badc\"}'}"
            ]
          },
          "metadata": {
            "tags": []
          },
          "execution_count": 4
        }
      ]
    },
    {
      "cell_type": "code",
      "metadata": {
        "id": "C3Hci6QC52Es",
        "colab_type": "code",
        "outputId": "b8dcfa90-f465-43c7-a82b-8e43f1622101",
        "colab": {
          "base_uri": "https://localhost:8080/",
          "height": 35
        }
      },
      "source": [
        "! mkdir ~/.kaggle"
      ],
      "execution_count": 0,
      "outputs": [
        {
          "output_type": "stream",
          "text": [
            "mkdir: cannot create directory ‘/root/.kaggle’: File exists\n"
          ],
          "name": "stdout"
        }
      ]
    },
    {
      "cell_type": "code",
      "metadata": {
        "id": "o4vHUCNs59YQ",
        "colab_type": "code",
        "colab": {}
      },
      "source": [
        "! cp kaggle.json ~/.kaggle/"
      ],
      "execution_count": 0,
      "outputs": []
    },
    {
      "cell_type": "code",
      "metadata": {
        "id": "tcinapWc6EP7",
        "colab_type": "code",
        "colab": {}
      },
      "source": [
        "! chmod 600 ~/.kaggle/kaggle.json"
      ],
      "execution_count": 0,
      "outputs": []
    },
    {
      "cell_type": "code",
      "metadata": {
        "id": "v6rM6FVf6KM2",
        "colab_type": "code",
        "colab": {}
      },
      "source": [
        "! kaggle datasets list"
      ],
      "execution_count": 0,
      "outputs": []
    },
    {
      "cell_type": "code",
      "metadata": {
        "id": "dgeiFKGz6YLW",
        "colab_type": "code",
        "colab": {}
      },
      "source": [
        "!kaggle competitions download -c tensorflow-speech-recognition-challenge"
      ],
      "execution_count": 0,
      "outputs": []
    },
    {
      "cell_type": "code",
      "metadata": {
        "id": "deihU68gkPnI",
        "colab_type": "code",
        "outputId": "eaa6a636-4436-4ea7-a2a6-28bd008ec54a",
        "colab": {
          "base_uri": "https://localhost:8080/",
          "height": 34
        }
      },
      "source": [
        "% cd drive/My\\ Drive "
      ],
      "execution_count": 3,
      "outputs": [
        {
          "output_type": "stream",
          "text": [
            "/content/drive/My Drive\n"
          ],
          "name": "stdout"
        }
      ]
    },
    {
      "cell_type": "code",
      "metadata": {
        "id": "jnhXhZdL8aLp",
        "colab_type": "code",
        "colab": {}
      },
      "source": [
        "!ls"
      ],
      "execution_count": 0,
      "outputs": []
    },
    {
      "cell_type": "code",
      "metadata": {
        "id": "cXmQFMDb7VaA",
        "colab_type": "code",
        "colab": {}
      },
      "source": [
        "#!mkdir tensorflow-speech-recognition-challenge/train\n",
        "! 7z x tensorflow-speech-recognition-challenge/train.7z "
      ],
      "execution_count": 0,
      "outputs": []
    },
    {
      "cell_type": "code",
      "metadata": {
        "id": "za3GRUJzt2Z6",
        "colab_type": "code",
        "colab": {}
      },
      "source": [
        "!mv  train tensorflow-speech-recognition-challenge/"
      ],
      "execution_count": 0,
      "outputs": []
    },
    {
      "cell_type": "code",
      "metadata": {
        "id": "tOKfE5NK87ql",
        "colab_type": "code",
        "colab": {}
      },
      "source": [
        "! 7z x tensorflow-speech-recognition-challenge/test.7z "
      ],
      "execution_count": 0,
      "outputs": []
    },
    {
      "cell_type": "code",
      "metadata": {
        "id": "FMRvziUT12Y8",
        "colab_type": "code",
        "outputId": "490fbd49-0e85-4e96-f4ea-146ace551253",
        "colab": {
          "base_uri": "https://localhost:8080/",
          "height": 294
        }
      },
      "source": [
        "train_audio_path = './tensorflow-speech-recognition-challenge/train/audio/'\n",
        "samples, sample_rate = librosa.load(train_audio_path+'yes/0a7c2a8d_nohash_0.wav', sr = 16000)\n",
        "fig = plt.figure(figsize=(14, 8))\n",
        "ax1 = fig.add_subplot(211)\n",
        "ax1.set_title('Raw wave of ' + '../input/train/audio/yes/0a7c2a8d_nohash_0.wav')\n",
        "ax1.set_xlabel('time')\n",
        "ax1.set_ylabel('Amplitude')\n",
        "ax1.plot(np.linspace(0, sample_rate/len(samples), sample_rate), samples)"
      ],
      "execution_count": 0,
      "outputs": [
        {
          "output_type": "execute_result",
          "data": {
            "text/plain": [
              "[<matplotlib.lines.Line2D at 0x7f4cb8c0ee10>]"
            ]
          },
          "metadata": {
            "tags": []
          },
          "execution_count": 9
        },
        {
          "output_type": "display_data",
          "data": {
            "image/png": "[encoded data removed]",
            "text/plain": [
              "<Figure size 1008x576 with 1 Axes>"
            ]
          },
          "metadata": {
            "tags": [],
            "needs_background": "light"
          }
        }
      ]
    },
    {
      "cell_type": "code",
      "metadata": {
        "id": "cpzCWAn0vMof",
        "colab_type": "code",
        "outputId": "c4633578-59f4-4b2a-974a-0b941b00f0aa",
        "colab": {
          "base_uri": "https://localhost:8080/",
          "height": 89
        }
      },
      "source": [
        "print('sampels :',samples,'sr :', sample_rate, 'max-value:', max(samples), '\\n np.linspace:',np.linspace(0, sample_rate/len(samples), sample_rate))\n",
        "#np.linspace(0, sample_rate/len(samples), sample_rate)"
      ],
      "execution_count": 0,
      "outputs": [
        {
          "output_type": "stream",
          "text": [
            "sampels : [ 0.00042725 -0.00021362 -0.00042725 ...  0.00057983  0.00061035\n",
            "  0.00082397] sr : 16000 max-value: 0.28720093 \n",
            " np.linspace: [0.00000000e+00 6.25039065e-05 1.25007813e-04 ... 9.99874992e-01\n",
            " 9.99937496e-01 1.00000000e+00]\n"
          ],
          "name": "stdout"
        }
      ]
    },
    {
      "cell_type": "code",
      "metadata": {
        "id": "nxEPwqJ20pya",
        "colab_type": "code",
        "outputId": "25f6299a-3d81-428a-b1b7-e3502e8c8c52",
        "colab": {
          "base_uri": "https://localhost:8080/",
          "height": 35
        }
      },
      "source": [
        "ipd.Audio(samples, rate=sample_rate)\n",
        "print(sample_rate)"
      ],
      "execution_count": 0,
      "outputs": [
        {
          "output_type": "stream",
          "text": [
            "16000\n"
          ],
          "name": "stdout"
        }
      ]
    },
    {
      "cell_type": "code",
      "metadata": {
        "id": "2AlFnHTU1BN3",
        "colab_type": "code",
        "outputId": "0669b6bf-050a-4886-f175-2bd5257a252c",
        "colab": {
          "base_uri": "https://localhost:8080/",
          "height": 74
        }
      },
      "source": [
        "samples = librosa.resample(samples, sample_rate, 8000)\n",
        "ipd.Audio(samples, rate=8000)"
      ],
      "execution_count": 0,
      "outputs": [
        {
          "output_type": "execute_result",
          "data": {
            "text/html": [
              "\n",
              "                <audio controls=\"controls\" >\n",
              "                    <source src=\"data:audio/wav;base64,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\" type=\"audio/wav\" />\n",
              "                    Your browser does not support the audio element.\n",
              "                </audio>\n",
              "              "
            ],
            "text/plain": [
              "<IPython.lib.display.Audio object>"
            ]
          },
          "metadata": {
            "tags": []
          },
          "execution_count": 12
        }
      ]
    },
    {
      "cell_type": "code",
      "metadata": {
        "id": "G4dNDRtcwIpZ",
        "colab_type": "code",
        "outputId": "d3dce3bf-ad8f-454f-8352-33b82064b598",
        "colab": {
          "base_uri": "https://localhost:8080/",
          "height": 481
        }
      },
      "source": [
        "labels=os.listdir(train_audio_path)\n",
        "train_audio_path = './tensorflow-speech-recognition-challenge/train/audio'\n",
        "#find count of each label and plot bar graph\n",
        "no_of_recordings=[]\n",
        "for label in labels:\n",
        "    waves = [f for f in os.listdir(train_audio_path + '/'+ label) if f.endswith('.wav')]\n",
        "    no_of_recordings.append(len(waves))\n",
        "    \n",
        "#plot\n",
        "plt.figure(figsize=(30,5))\n",
        "index = np.arange(len(labels))\n",
        "plt.bar(index, no_of_recordings)\n",
        "plt.xlabel('Commands', fontsize=12)\n",
        "plt.ylabel('No of recordings', fontsize=12)\n",
        "plt.xticks(index, labels, fontsize=15, rotation=60)\n",
        "plt.title('No. of recordings for each command')\n",
        "plt.show()\n",
        "\n",
        "labels=[\"yes\", \"no\", \"up\", \"down\", \"left\", \"right\", \"on\", \"off\", \"stop\", \"go\"]"
      ],
      "execution_count": 0,
      "outputs": [
        {
          "output_type": "display_data",
          "data": {
            "image/png": "[encoded data removed]",
            "text/plain": [
              "<Figure size 2160x360 with 1 Axes>"
            ]
          },
          "metadata": {
            "tags": [],
            "needs_background": "light"
          }
        }
      ]
    },
    {
      "cell_type": "code",
      "metadata": {
        "id": "zyLYqSwQyUKt",
        "colab_type": "code",
        "colab": {}
      },
      "source": [
        "duration_of_recordings=[]\n",
        "for label in labels:\n",
        "    waves = [f for f in os.listdir(train_audio_path + '/'+ label) if f.endswith('.wav')]\n",
        "    for wav in waves:\n",
        "        sample_rate, samples = wavfile.read(train_audio_path + '/' + label + '/' + wav)\n",
        "        duration_of_recordings.append(float(len(samples)/sample_rate))\n",
        "    \n",
        "plt.hist(np.array(duration_of_recordings))"
      ],
      "execution_count": 0,
      "outputs": []
    },
    {
      "cell_type": "code",
      "metadata": {
        "id": "uLo8RWdOyzmT",
        "colab_type": "code",
        "outputId": "10ea96f6-fbbb-472e-c1d7-a4e5b9d97825",
        "colab": {
          "base_uri": "https://localhost:8080/",
          "height": 85
        }
      },
      "source": [
        "train_audio_path = './tensorflow-speech-recognition-challenge/train/audio'\n",
        "labels=[\"yes\", \"no\", \"up\", \"down\", \"left\", \"right\", \"on\", \"off\", \"stop\", \"go\"]\n",
        "\n",
        "all_wave = []\n",
        "all_label = []\n",
        "for label in labels:\n",
        "    print(label)\n",
        "    waves = [f for f in os.listdir(train_audio_path + '/'+ label) if f.endswith('.wav')]\n",
        "    for wav in waves:\n",
        "        samples, sample_rate = librosa.load(train_audio_path + '/' + label + '/' + wav, sr = 16000)\n",
        "        samples = librosa.resample(samples, sample_rate, 8000)\n",
        "        if(len(samples)== 8000) : \n",
        "            all_wave.append(samples)\n",
        "            all_label.append(label)"
      ],
      "execution_count": 0,
      "outputs": [
        {
          "output_type": "stream",
          "text": [
            "yes\n",
            "no\n",
            "up\n",
            "down\n"
          ],
          "name": "stdout"
        }
      ]
    },
    {
      "cell_type": "code",
      "metadata": {
        "id": "EbcxzwxBy_C-",
        "colab_type": "code",
        "colab": {}
      },
      "source": [
        "!ls"
      ],
      "execution_count": 0,
      "outputs": []
    },
    {
      "cell_type": "code",
      "metadata": {
        "id": "06VPUQS8zP_P",
        "colab_type": "code",
        "colab": {}
      },
      "source": [
        "from sklearn.preprocessing import LabelEncoder\n",
        "le = LabelEncoder()\n",
        "y=le.fit_transform(all_label)\n",
        "classes= list(le.classes_)"
      ],
      "execution_count": 0,
      "outputs": []
    },
    {
      "cell_type": "code",
      "metadata": {
        "id": "d2lH6R8l5z7P",
        "colab_type": "code",
        "colab": {}
      },
      "source": [
        "from keras.utils import np_utils\n",
        "y=np_utils.to_categorical(y, num_classes=len(labels))"
      ],
      "execution_count": 0,
      "outputs": []
    },
    {
      "cell_type": "code",
      "metadata": {
        "id": "Nm9BcbUj52Kp",
        "colab_type": "code",
        "colab": {}
      },
      "source": [
        "all_wave = np.array(all_wave).reshape(-1,8000,1)"
      ],
      "execution_count": 0,
      "outputs": []
    },
    {
      "cell_type": "code",
      "metadata": {
        "id": "CCfEKKjQ54I3",
        "colab_type": "code",
        "colab": {}
      },
      "source": [
        "from sklearn.model_selection import train_test_split\n",
        "x_tr, x_val, y_tr, y_val = train_test_split(np.array(all_wave),np.array(y),stratify=y,test_size = 0.2,random_state=777,shuffle=True)"
      ],
      "execution_count": 0,
      "outputs": []
    },
    {
      "cell_type": "markdown",
      "metadata": {
        "id": "iRmmnZ8X58rl",
        "colab_type": "text"
      },
      "source": [
        "## Model Architecture for this problem\n",
        "We will build the speech-to-text model using conv1d. Conv1d is a convolutional neural network which performs the convolution along only one dimension. "
      ]
    },
    {
      "cell_type": "code",
      "metadata": {
        "id": "DbZ50FmO57dG",
        "colab_type": "code",
        "colab": {}
      },
      "source": [
        "from keras.layers import Dense, Dropout, Flatten, Conv1D, Input, MaxPooling1D\n",
        "from keras.models import Model\n",
        "from keras.callbacks import EarlyStopping, ModelCheckpoint\n",
        "from keras import backend as K\n",
        "K.clear_session()\n",
        "\n",
        "inputs = Input(shape=(8000,1))\n",
        "\n",
        "#First Conv1D layer\n",
        "conv = Conv1D(8,13, padding='valid', activation='relu', strides=1)(inputs)\n",
        "conv = MaxPooling1D(3)(conv)\n",
        "conv = Dropout(0.3)(conv)\n",
        "\n",
        "#Second Conv1D layer\n",
        "conv = Conv1D(16, 11, padding='valid', activation='relu', strides=1)(conv)\n",
        "conv = MaxPooling1D(3)(conv)\n",
        "conv = Dropout(0.3)(conv)\n",
        "\n",
        "#Third Conv1D layer\n",
        "conv = Conv1D(32, 9, padding='valid', activation='relu', strides=1)(conv)\n",
        "conv = MaxPooling1D(3)(conv)\n",
        "conv = Dropout(0.3)(conv)\n",
        "\n",
        "#Fourth Conv1D layer\n",
        "conv = Conv1D(64, 7, padding='valid', activation='relu', strides=1)(conv)\n",
        "conv = MaxPooling1D(3)(conv)\n",
        "conv = Dropout(0.3)(conv)\n",
        "\n",
        "#Flatten layer\n",
        "conv = Flatten()(conv)\n",
        "\n",
        "#Dense Layer 1\n",
        "conv = Dense(256, activation='relu')(conv)\n",
        "conv = Dropout(0.3)(conv)\n",
        "\n",
        "#Dense Layer 2\n",
        "conv = Dense(128, activation='relu')(conv)\n",
        "conv = Dropout(0.3)(conv)\n",
        "\n",
        "outputs = Dense(len(labels), activation='softmax')(conv)\n",
        "\n",
        "model = Model(inputs, outputs)\n",
        "model.summary()"
      ],
      "execution_count": 0,
      "outputs": []
    },
    {
      "cell_type": "code",
      "metadata": {
        "id": "3YEVe2NMJlBF",
        "colab_type": "code",
        "colab": {}
      },
      "source": [
        "model.compile(loss='categorical_crossentropy',optimizer='adam',metrics=['accuracy'])"
      ],
      "execution_count": 0,
      "outputs": []
    },
    {
      "cell_type": "code",
      "metadata": {
        "id": "tWGNSIr1KJHq",
        "colab_type": "code",
        "colab": {}
      },
      "source": [
        "!nvidia-smi"
      ],
      "execution_count": 0,
      "outputs": []
    },
    {
      "cell_type": "code",
      "metadata": {
        "id": "fTv7swHeO8vK",
        "colab_type": "code",
        "colab": {}
      },
      "source": [
        "!ls |grep best"
      ],
      "execution_count": 0,
      "outputs": []
    },
    {
      "cell_type": "code",
      "metadata": {
        "id": "rwGmpDVuJ0Rs",
        "colab_type": "code",
        "colab": {}
      },
      "source": [
        "es = EarlyStopping(monitor='val_loss', mode='min', verbose=1, patience=10, min_delta=0.0001) \n",
        "mc = ModelCheckpoint('../../best_model.hdf5', monitor='val_acc', verbose=1, save_best_only=True, mode='max')"
      ],
      "execution_count": 0,
      "outputs": []
    },
    {
      "cell_type": "code",
      "metadata": {
        "id": "uIzGWDhxJ_K9",
        "colab_type": "code",
        "colab": {}
      },
      "source": [
        "es = EarlyStopping(monitor='val_loss', mode='min', verbose=1, patience=10, min_delta=0.0001) \n",
        "mc = ModelCheckpoint('./tensorflow-speech-recognition-challenge/best_model.hdf5', monitor='val_acc', verbose=1, save_best_only=True, mode='max')\n",
        "history=model.fit(x_tr, y_tr ,epochs=100, callbacks=[es,mc], batch_size=32, validation_data=(x_val,y_val))"
      ],
      "execution_count": 0,
      "outputs": []
    },
    {
      "cell_type": "code",
      "metadata": {
        "id": "pEYNMwZhK0hl",
        "colab_type": "code",
        "colab": {}
      },
      "source": [
        "from matplotlib import pyplot \n",
        "pyplot.plot(history.history['loss'], label='train') \n",
        "pyplot.plot(history.history['val_loss'], label='test') \n",
        "pyplot.legend() \n",
        "pyplot.show()"
      ],
      "execution_count": 0,
      "outputs": []
    },
    {
      "cell_type": "code",
      "metadata": {
        "id": "3sFUm7qEOQiS",
        "colab_type": "code",
        "colab": {}
      },
      "source": [
        "!ls tensorflow-speech-recognition-challenge"
      ],
      "execution_count": 0,
      "outputs": []
    },
    {
      "cell_type": "code",
      "metadata": {
        "id": "ybb0ot2jLKH7",
        "colab_type": "code",
        "colab": {}
      },
      "source": [
        "from keras.models import load_model\n",
        "model=load_model('best_model.hdf5')"
      ],
      "execution_count": 0,
      "outputs": []
    },
    {
      "cell_type": "code",
      "metadata": {
        "id": "ozKITpCzTUIl",
        "colab_type": "code",
        "colab": {}
      },
      "source": [
        "def predict(audio):\n",
        "    prob=model.predict(audio.reshape(1,8000,1))\n",
        "    index=np.argmax(prob[0])\n",
        "    return classes[index]"
      ],
      "execution_count": 0,
      "outputs": []
    },
    {
      "cell_type": "code",
      "metadata": {
        "id": "0kfP8kK0TaYE",
        "colab_type": "code",
        "colab": {}
      },
      "source": [
        "import random\n",
        "index=random.randint(0,len(x_val)-1)\n",
        "samples=x_val[index].ravel()\n",
        "print(\"Audio:\",classes[np.argmax(y_val[index])])\n",
        "ipd.Audio(samples, rate=8000)\n",
        "print(\"Text:\",predict(samples))"
      ],
      "execution_count": 0,
      "outputs": []
    },
    {
      "cell_type": "code",
      "metadata": {
        "id": "tExG35mpUOrn",
        "colab_type": "code",
        "colab": {}
      },
      "source": [
        "!pip3 install sounddevice \n",
        "!apt-get install libportaudio2\n",
        "!pip3 install soundfile"
      ],
      "execution_count": 0,
      "outputs": []
    },
    {
      "cell_type": "markdown",
      "metadata": {
        "id": "PylgPahqymiT",
        "colab_type": "text"
      },
      "source": [
        "if happen error during install libprotaudio2: \n",
        "the libmkldnn.so.0 is not a softlink.  need to transform the file to a softlink is ok. "
      ]
    },
    {
      "cell_type": "code",
      "metadata": {
        "id": "YZhveCMswz7j",
        "colab_type": "code",
        "colab": {}
      },
      "source": [
        "#!mv /usr/local/lib/python3.6/dist-packages/ideep4py/lib/libmkldnn.so.0 /usr/local/lib/python3.6/dist-packages/ideep4py/lib/libmkldnn.so.0.bak\n",
        "!ln -sf /usr/local/lib/python3.6/dist-packages/ideep4py/lib/libmkldnn.so.0   /usr/local/lib/python3.6/dist-packages/ideep4py/lib/libmkldnn.so"
      ],
      "execution_count": 0,
      "outputs": []
    },
    {
      "cell_type": "markdown",
      "metadata": {
        "id": "bvqEhlBVzROu",
        "colab_type": "text"
      },
      "source": [
        "# Recording youself audio sound clip (durable 1 second),  but the colab not support recording device, so you should do this step in local."
      ]
    },
    {
      "cell_type": "code",
      "metadata": {
        "id": "V-_iO596Tj_b",
        "colab_type": "code",
        "colab": {}
      },
      "source": [
        "import sounddevice as sd\n",
        "import soundfile as sf\n",
        "\n",
        "samplerate = 16000  \n",
        "duration = 1 # seconds\n",
        "filename = 'yes.wav'\n",
        "print(\"start\")\n",
        "mydata = sd.rec(int(samplerate * duration), samplerate=samplerate,\n",
        "    channels=1, blocking=True)\n",
        "print(\"end\")\n",
        "sd.wait()\n",
        "sf.write(filename, mydata, samplerate)"
      ],
      "execution_count": 0,
      "outputs": []
    },
    {
      "cell_type": "markdown",
      "metadata": {
        "id": "VKwnF2S-0JNn",
        "colab_type": "text"
      },
      "source": [
        "# Let us now read the saved voice command and convert it to text:"
      ]
    },
    {
      "cell_type": "code",
      "metadata": {
        "id": "oVjLMPL52-nV",
        "colab_type": "code",
        "colab": {}
      },
      "source": [
        "!ls"
      ],
      "execution_count": 0,
      "outputs": []
    },
    {
      "cell_type": "code",
      "metadata": {
        "id": "1qWihiSlzp4F",
        "colab_type": "code",
        "colab": {}
      },
      "source": [
        "#os.listdir('../input/voice-commands/prateek_voice_v2')\n",
        "filepath='./'\n",
        "\n",
        "#reading the voice commands\n",
        "samples, sample_rate = librosa.load(filepath + '/' + 'yes.wav', sr = 16000)\n",
        "samples = librosa.resample(samples, sample_rate, 8000)\n",
        "ipd.Audio(samples,rate=8000)  \n",
        "\n",
        "predict(samples)"
      ],
      "execution_count": 0,
      "outputs": []
    }
  ]
}